{
 "cells": [
  {
   "cell_type": "markdown",
   "id": "debe5301-3bc8-4c28-b1fe-9c55efde40f8",
   "metadata": {},
   "source": [
    "# Usage\n",
    "\n",
    "The rust implementation for the task includes some print statements, where the root rank prints the masses of all bodies once and then prints all positions after each step.\n",
    "Uncomment these print statements and pipe the print outputs into a file, like so: `mpirun -np 4 ./target/release/u2 > test.log`"
   ]
  },
  {
   "cell_type": "code",
   "execution_count": null,
   "id": "70b537bd",
   "metadata": {},
   "outputs": [],
   "source": [
    "# libraries\n",
    "import numpy as np\n",
    "import json\n",
    "import matplotlib.pyplot as plt\n",
    "import matplotlib.animation as animation\n",
    "from IPython.display import HTML"
   ]
  },
  {
   "cell_type": "code",
   "execution_count": null,
   "id": "1aa11e39-394b-46b5-97d6-994d54583b46",
   "metadata": {},
   "outputs": [],
   "source": [
    "input_file = open(\"test.log\", \"r\")"
   ]
  },
  {
   "cell_type": "code",
   "execution_count": null,
   "id": "342c89bf-69fd-417c-84ce-ed1ed1f7784c",
   "metadata": {},
   "outputs": [],
   "source": [
    "timesteps = []\n",
    "masses = []\n",
    "for line in input_file:\n",
    "    if line.startswith(\"Masses\"):\n",
    "        masses = json.loads(line.split(\": \")[1])\n",
    "    if not line.startswith(\"[\"):\n",
    "        continue\n",
    "\n",
    "    line = line.replace(\"\\n\", \"\")\n",
    "    positions_flat = json.loads(line)\n",
    "    positions = list(zip(positions_flat[0::2], positions_flat[1::2]))\n",
    "    timesteps.append(positions)"
   ]
  },
  {
   "cell_type": "code",
   "execution_count": null,
   "id": "6fbff518-43ea-4d64-adf4-14bd26856077",
   "metadata": {},
   "outputs": [],
   "source": [
    "data = np.array(timesteps)\n",
    "transposed = []\n",
    "for d in data:\n",
    "    transposed.append(d.T)\n",
    "\n",
    "transposed = np.array(transposed)"
   ]
  },
  {
   "cell_type": "code",
   "execution_count": null,
   "id": "0c54919c-6f36-4051-a729-d0a65181f079",
   "metadata": {},
   "outputs": [],
   "source": [
    "class AnimatedPlot():\n",
    "    def __init__(self, data):\n",
    "        self.fig, self.ax = plt.subplots()\n",
    "        self.data = data\n",
    "        self.n = self.data.shape[2]\n",
    "        print(self.n)\n",
    "\n",
    "        self.scat = self.ax.scatter(self.data[0][0], self.data[0][1], c=\"b\", s=np.array(masses)/max(masses)*20)\n",
    "        #self.ax.axis([-1000, 1000, -1000, 1000])\n",
    "        \n",
    "        self.animation = animation.FuncAnimation(self.fig, self.update, frames=range(1, 500), blit=True)\n",
    "    \n",
    "    def update(self, i):\n",
    "        d = self.data[i]\n",
    "\n",
    "        self.scat.set_offsets(d.T)\n",
    "\n",
    "        return self.scat,"
   ]
  },
  {
   "cell_type": "code",
   "execution_count": null,
   "id": "6c8e116d-0837-4a97-955a-b65eff9fabe6",
   "metadata": {},
   "outputs": [],
   "source": [
    "plot = AnimatedPlot(transposed)\n",
    "HTML(plot.animation.to_html5_video())"
   ]
  },
  {
   "cell_type": "code",
   "execution_count": null,
   "id": "ef1fd5aa-da66-4157-b369-06782225d3ce",
   "metadata": {},
   "outputs": [],
   "source": []
  }
 ],
 "metadata": {
  "kernelspec": {
   "display_name": "Python 3 (ipykernel)",
   "language": "python",
   "name": "python3"
  },
  "language_info": {
   "codemirror_mode": {
    "name": "ipython",
    "version": 3
   },
   "file_extension": ".py",
   "mimetype": "text/x-python",
   "name": "python",
   "nbconvert_exporter": "python",
   "pygments_lexer": "ipython3",
   "version": "3.11.4"
  }
 },
 "nbformat": 4,
 "nbformat_minor": 5
}
